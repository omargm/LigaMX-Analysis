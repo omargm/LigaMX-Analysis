{
 "cells": [
  {
   "cell_type": "markdown",
   "metadata": {},
   "source": [
    "# Notebook para obtener estadísticas de LIGA MX\n",
    "By Omar Mora"
   ]
  },
  {
   "cell_type": "markdown",
   "metadata": {},
   "source": [
    "## Importar paquetes a utilizar"
   ]
  },
  {
   "cell_type": "code",
   "execution_count": 19,
   "metadata": {},
   "outputs": [],
   "source": [
    "import pandas as pd\n",
    "import re"
   ]
  },
  {
   "cell_type": "markdown",
   "metadata": {},
   "source": [
    "## Obtener de datos"
   ]
  },
  {
   "cell_type": "markdown",
   "metadata": {},
   "source": [
    "Se pueden obtener datos desde el clausura 2019, define los valores del torneo a exraer datos en las variables torneo y year, ambas como str. Ejemplo torneo=\"apertura\", year=\"2020\""
   ]
  },
  {
   "cell_type": "code",
   "execution_count": 20,
   "metadata": {},
   "outputs": [],
   "source": [
    "torneo = \"clausura\" \n",
    "year = \"2019\"\n",
    "term = \"C19\""
   ]
  },
  {
   "cell_type": "code",
   "execution_count": 21,
   "metadata": {},
   "outputs": [],
   "source": [
    "#Importar archivo con links para cada estadistica\n",
    "links = pd.read_csv(\"data_links.csv\")\n",
    "links['url'] = links.url_base + torneo + str('/') + year + links.url_final + links.estadistica"
   ]
  },
  {
   "cell_type": "code",
   "execution_count": 22,
   "metadata": {},
   "outputs": [
    {
     "data": {
      "text/html": [
       "<div>\n",
       "<style scoped>\n",
       "    .dataframe tbody tr th:only-of-type {\n",
       "        vertical-align: middle;\n",
       "    }\n",
       "\n",
       "    .dataframe tbody tr th {\n",
       "        vertical-align: top;\n",
       "    }\n",
       "\n",
       "    .dataframe thead th {\n",
       "        text-align: right;\n",
       "    }\n",
       "</style>\n",
       "<table border=\"1\" class=\"dataframe\">\n",
       "  <thead>\n",
       "    <tr style=\"text-align: right;\">\n",
       "      <th></th>\n",
       "      <th>estadistica</th>\n",
       "      <th>url_base</th>\n",
       "      <th>url_final</th>\n",
       "      <th>url</th>\n",
       "    </tr>\n",
       "  </thead>\n",
       "  <tbody>\n",
       "    <tr>\n",
       "      <th>0</th>\n",
       "      <td>goles</td>\n",
       "      <td>https://mexico.as.com/resultados/futbol/mexico_</td>\n",
       "      <td>/ranking/jugadores/</td>\n",
       "      <td>https://mexico.as.com/resultados/futbol/mexico...</td>\n",
       "    </tr>\n",
       "    <tr>\n",
       "      <th>1</th>\n",
       "      <td>goles-encajados</td>\n",
       "      <td>https://mexico.as.com/resultados/futbol/mexico_</td>\n",
       "      <td>/ranking/jugadores/</td>\n",
       "      <td>https://mexico.as.com/resultados/futbol/mexico...</td>\n",
       "    </tr>\n",
       "    <tr>\n",
       "      <th>2</th>\n",
       "      <td>disparos</td>\n",
       "      <td>https://mexico.as.com/resultados/futbol/mexico_</td>\n",
       "      <td>/ranking/jugadores/</td>\n",
       "      <td>https://mexico.as.com/resultados/futbol/mexico...</td>\n",
       "    </tr>\n",
       "    <tr>\n",
       "      <th>3</th>\n",
       "      <td>regates</td>\n",
       "      <td>https://mexico.as.com/resultados/futbol/mexico_</td>\n",
       "      <td>/ranking/jugadores/</td>\n",
       "      <td>https://mexico.as.com/resultados/futbol/mexico...</td>\n",
       "    </tr>\n",
       "    <tr>\n",
       "      <th>4</th>\n",
       "      <td>pases-buenos</td>\n",
       "      <td>https://mexico.as.com/resultados/futbol/mexico_</td>\n",
       "      <td>/ranking/jugadores/</td>\n",
       "      <td>https://mexico.as.com/resultados/futbol/mexico...</td>\n",
       "    </tr>\n",
       "  </tbody>\n",
       "</table>\n",
       "</div>"
      ],
      "text/plain": [
       "       estadistica                                         url_base  \\\n",
       "0            goles  https://mexico.as.com/resultados/futbol/mexico_   \n",
       "1  goles-encajados  https://mexico.as.com/resultados/futbol/mexico_   \n",
       "2         disparos  https://mexico.as.com/resultados/futbol/mexico_   \n",
       "3          regates  https://mexico.as.com/resultados/futbol/mexico_   \n",
       "4     pases-buenos  https://mexico.as.com/resultados/futbol/mexico_   \n",
       "\n",
       "             url_final                                                url  \n",
       "0  /ranking/jugadores/  https://mexico.as.com/resultados/futbol/mexico...  \n",
       "1  /ranking/jugadores/  https://mexico.as.com/resultados/futbol/mexico...  \n",
       "2  /ranking/jugadores/  https://mexico.as.com/resultados/futbol/mexico...  \n",
       "3  /ranking/jugadores/  https://mexico.as.com/resultados/futbol/mexico...  \n",
       "4  /ranking/jugadores/  https://mexico.as.com/resultados/futbol/mexico...  "
      ]
     },
     "execution_count": 22,
     "metadata": {},
     "output_type": "execute_result"
    }
   ],
   "source": [
    "links.head()"
   ]
  },
  {
   "cell_type": "markdown",
   "metadata": {},
   "source": [
    "## Funcion para obtener, limpiar y guardar datos"
   ]
  },
  {
   "cell_type": "code",
   "execution_count": 23,
   "metadata": {},
   "outputs": [],
   "source": [
    "def obtener_y_limpiar_datos(df):\n",
    "    \n",
    "    #-----OBTENER DATOS-----\n",
    "    \n",
    "    for i, row in df.iterrows():\n",
    "        enlace = df.url[i]\n",
    "        data = pd.read_html(enlace)\n",
    "        data = data[0]\n",
    "        \n",
    "    #-----LIMPIAR DATOS-----\n",
    "        \n",
    "        #Cambiar nombre de columna de Ranking\n",
    "        data.rename(columns={'Pos.':'Ranking'}, inplace=True)\n",
    "\n",
    "        #Llenar posiciones que tienen NA\n",
    "        data.Ranking.fillna(method='ffill', inplace=True)\n",
    "\n",
    "        #Remover posicion de columna Jugador\n",
    "        data['Posicion'] = data.Jugador.map(lambda x: x.rsplit(' ', 1)[1])\n",
    "        data['Jugador'] = data.Jugador.map(lambda x: x.rsplit(' ', 1)[0])\n",
    "\n",
    "        #Remover \"Goles\" del primer ligar\n",
    "        #data['Total'] = data['Total'].str.replace(links.estadistica[i].re.sub(r'[azAZ]+', '', inputstring))\n",
    "        data['Total'] = data['Total'].str.replace(r'\\D', '')\n",
    "\n",
    "        #Formatos a INT\n",
    "        data['Ranking'] = data.Ranking.astype('int64')\n",
    "        data['Total'] = data.Total.astype('int64')\n",
    "        \n",
    "    #-----GUARDAR DATOS-----\n",
    "        data.to_csv('stat_' + links.estadistica[i] + '_' + term + '.csv', index=False, encoding='utf-8')\n",
    "        print(links.estadistica[i])\n",
    "        "
   ]
  },
  {
   "cell_type": "code",
   "execution_count": 24,
   "metadata": {},
   "outputs": [
    {
     "name": "stdout",
     "output_type": "stream",
     "text": [
      "goles\n",
      "goles-encajados\n",
      "disparos\n",
      "regates\n",
      "pases-buenos\n",
      "paradas-del-portero\n",
      "partidos-jugados-de-titular\n",
      "minutos-totales-disputados\n",
      "total-de-sustituciones-en-las-que-sale-del-campo\n",
      "total-de-sustituciones-en-las-que-entra-al-campo\n",
      "penaltis-parados-por-el-portero\n",
      "penaltis-disparados-al-portero\n",
      "intervenciones\n",
      "asistencias-de-gol\n",
      "asistencias-totales\n",
      "regates-satisfactorios\n",
      "regates-en-los-que-pierdes-el-balon\n",
      "partidos-disputados\n",
      "balones-disputados-donde-se-ha-perdido-la-posesion\n",
      "balones-disputados-donde-se-ha-ganado-la-posesion\n",
      "balones-disputados\n",
      "duelos-uno-contra-uno-perdidos-sobre-la-posesion-del-balon-en-el-aire\n",
      "duelos-uno-contra-uno-ganados-sobre-la-posesion-del-balon-en-el-aire\n",
      "duelos-uno-contra-uno-sobre-la-posesion-del-balon-en-el-aire\n",
      "duelos-uno-contra-uno-perdidos-sobre-la-posesion-del-balon-en-el-cesped\n",
      "duelos-uno-contra-uno-ganados-sobre-la-posesion-del-balon-en-el-cesped\n",
      "duelos-uno-contra-uno-sobre-la-posesion-del-balon-en-el-cesped\n",
      "faltas-cometidas\n",
      "faltas-recibidas\n",
      "goles-encajados-desde-dentro-del-area\n",
      "goles-encajados-desde-fuera-del-area\n",
      "goles-encajados-de-penalti\n",
      "goles-en-propia-puerta\n",
      "goles-con-el-pie-izquierdo\n",
      "goles-con-el-pie-derecho\n",
      "goles-con-la-cabeza\n",
      "goles-desde-dentro-del-area\n",
      "goles-desde-fuera-del-area\n",
      "goles-de-penalti\n",
      "centros-fallados\n",
      "centros-buenos\n",
      "centros\n",
      "pases-fallados\n",
      "pases-largos-buenos\n",
      "pases-largos-fallados\n",
      "pases-largos\n",
      "pases-buenos-en-campo-contrario\n",
      "pases-fallados-en-campo-contrario\n",
      "pases-que-se-han-producido-en-campo-contrario\n",
      "pases-fallados-en-campo-propio\n",
      "pases-que-se-han-producido-en-campo-propio\n",
      "intercepciones\n",
      "pases\n",
      "fueras-de-juego\n",
      "tarjetas-rojas\n",
      "segundas-tarjetas-amarillas\n",
      "tarjetas-amarillas\n",
      "tarjetas-rojas-directas\n",
      "tarjetas\n",
      "disparos-fuera-o-al-poste\n",
      "disparos-a-puerta\n",
      "disparos-de-falta\n",
      "penaltis-lanzados\n",
      "penaltis-recibidos\n",
      "disparos-recibidos-bloqueados\n",
      "disparos-al-poste\n",
      "partidos-con-la-porteria-a-cero\n",
      "faltas-por-mano\n",
      "saques-de-esquina\n",
      "recuperaciones-de-posesion\n",
      "perdidas-de-posesion\n",
      "balon-salvado-desde-la-linea-de-gol\n",
      "entradas\n",
      "entradas-que-resultan-en-la-recuperacion-del-balon\n",
      "entradas-que-terminan-en-falta\n",
      "entradas-que-resultan-en-la-no-recuperacion-del-balon\n"
     ]
    }
   ],
   "source": [
    "obtener_y_limpiar_datos(links)"
   ]
  }
 ],
 "metadata": {
  "kernelspec": {
   "display_name": "Python 3",
   "language": "python",
   "name": "python3"
  },
  "language_info": {
   "codemirror_mode": {
    "name": "ipython",
    "version": 3
   },
   "file_extension": ".py",
   "mimetype": "text/x-python",
   "name": "python",
   "nbconvert_exporter": "python",
   "pygments_lexer": "ipython3",
   "version": "3.7.1"
  }
 },
 "nbformat": 4,
 "nbformat_minor": 2
}
